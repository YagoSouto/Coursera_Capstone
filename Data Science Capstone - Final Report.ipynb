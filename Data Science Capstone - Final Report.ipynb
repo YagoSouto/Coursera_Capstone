{
 "cells": [
  {
   "cell_type": "markdown",
   "metadata": {},
   "source": [
    "# Capstone - The Battle of Neighborhoods Report P1"
   ]
  },
  {
   "cell_type": "markdown",
   "metadata": {},
   "source": [
    "## Introduction / Business problem"
   ]
  },
  {
   "cell_type": "markdown",
   "metadata": {},
   "source": [
    "Nowadays **Airbnb users/tourists** visiting NY could easily get overwhelmed by the **seemingly infinite possibilities for their choice, both because of the thousands of Airbnb hosts options and of the extensive list of venues and things to do around the city**. To help them we'll analyze Foursquare and Airnbnb data so we can compare the neighborhoods both in terms of Airbnb options and venues to enjoy while visiting the city."
   ]
  },
  {
   "cell_type": "markdown",
   "metadata": {},
   "source": [
    "## Data"
   ]
  },
  {
   "cell_type": "markdown",
   "metadata": {},
   "source": [
    "The main objective of this analysis is to compare, in a meaningul way for a tourist planning to visit and to rent an Airbnb, neighborhoods of New York city. Using the Foursquare API combined with Airbnb data the ojective of this analysis is to build up categories of neighborhoods based on:\n",
    "\n",
    "    - Airbnb listings in the areas (Quantity of options)\n",
    "    - Airbnb listings prices (Price feature will be a maing one defining clusters)\n",
    "    - Airbnb listing type of place (whole appartment, one room)\n",
    "    - Airbnb listing name (so more information can be extracted eg.: penthouses, pool, etc.)\n",
    "    - Quantity of interesting venues around according to Foursquare Explore query\n",
    "    - Quantity of trending venues around according to Foursquare query \n",
    "    - Categories of venues around according to Foursquare\n",
    "    \n",
    "Once categories are built based on all this data, we can analyse **which type of neighborhood is better suited for different types of tourists** and create a list of reccomendations based on a robust anaylsis."
   ]
  },
  {
   "cell_type": "markdown",
   "metadata": {},
   "source": [
    "## Methodology"
   ]
  },
  {
   "cell_type": "markdown",
   "metadata": {},
   "source": [
    "**To be completed**"
   ]
  },
  {
   "cell_type": "markdown",
   "metadata": {},
   "source": [
    "## Results"
   ]
  },
  {
   "cell_type": "markdown",
   "metadata": {},
   "source": [
    "**To be completed**"
   ]
  },
  {
   "cell_type": "markdown",
   "metadata": {},
   "source": [
    "## Discussion"
   ]
  },
  {
   "cell_type": "markdown",
   "metadata": {},
   "source": [
    "**To be completed**"
   ]
  },
  {
   "cell_type": "markdown",
   "metadata": {},
   "source": [
    "## Conclusion"
   ]
  },
  {
   "cell_type": "markdown",
   "metadata": {},
   "source": [
    "**To be completed**"
   ]
  },
  {
   "cell_type": "code",
   "execution_count": null,
   "metadata": {},
   "outputs": [],
   "source": []
  }
 ],
 "metadata": {
  "kernelspec": {
   "display_name": "Python 3",
   "language": "python",
   "name": "python3"
  },
  "language_info": {
   "codemirror_mode": {
    "name": "ipython",
    "version": 3
   },
   "file_extension": ".py",
   "mimetype": "text/x-python",
   "name": "python",
   "nbconvert_exporter": "python",
   "pygments_lexer": "ipython3",
   "version": "3.7.6"
  }
 },
 "nbformat": 4,
 "nbformat_minor": 4
}
